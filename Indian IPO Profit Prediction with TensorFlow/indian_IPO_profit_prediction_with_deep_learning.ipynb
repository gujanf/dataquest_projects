{
 "cells": [
  {
   "cell_type": "markdown",
   "metadata": {},
   "source": [
    "# __Predicting Listing Gains in the Indian IPO Market Using TensorFlow__\n",
    "\n",
    "For this project we'll play the role of a data scientist with an investment firm that is interested in investing in the Initial Public Offerings (IPO) in the Indian Market. We'll atempt to build a deep learning classification model that will determine if there will be a percentage increase to the share price of a company.\n",
    "\n",
    "The dataset we'll use comed from [moneycontrol](https://www.moneycontrol.com/ipo/listed-ipos/?classic=true).\n",
    "\n",
    "The data consists of the following columns:\n",
    "\n",
    "1. `Date`: date when the IPO was listed\n",
    "\n",
    "2. `IPOName`: name of the IPO\n",
    "\n",
    "3. `Issue_Size`: size of the IPO issue, in INR Crores\n",
    "\n",
    "4. `Subscription_QIB`: number of times the IPO was subscribed by the QIB (Qualified Institutional Buyer) investor category\n",
    "\n",
    "5. `Subscription_HNI`: number of times the IPO was subscribed by the HNI (High Networth Individual) investor category\n",
    "\n",
    "6. `Subscription_RII`: number of times the IPO was subscribed by the RII (Retail Individual Investors) investor category\n",
    "\n",
    "7. `Subscription_Total`: total number of times the IPO was subscribed overall\n",
    "\n",
    "8. `Issue_Price`: the price in INR at which the IPO was issued\n",
    "\n",
    "9. `Listing_Gains_Percent`: is the percentage gain in the listing price over the issue price\n",
    "\n",
    "We have the dataset saved under the name `Indian_IPO_Market_Data.csv`, and we'll load the necessary libraries below:"
   ]
  },
  {
   "cell_type": "code",
   "execution_count": 1,
   "metadata": {},
   "outputs": [],
   "source": [
    "import numpy as np \n",
    "import pandas as pd \n",
    "import seaborn as sns\n",
    "import matplotlib.pyplot as plt\n",
    "import tensorflow as tf\n",
    "\n",
    "from tensorflow import keras\n",
    "from tensorflow.keras import layers\n",
    "from sklearn.model_selection import train_test_split"
   ]
  },
  {
   "cell_type": "markdown",
   "metadata": {},
   "source": [
    "## __Loading the Data__\n",
    "\n",
    "We will first get the data into a dataframe, and then we'll explore the data statistics:"
   ]
  },
  {
   "cell_type": "code",
   "execution_count": 2,
   "metadata": {},
   "outputs": [],
   "source": [
    "ipo = pd.read_csv('Indian_IPO_Market_Data.csv')"
   ]
  },
  {
   "cell_type": "code",
   "execution_count": 3,
   "metadata": {},
   "outputs": [
    {
     "name": "stdout",
     "output_type": "stream",
     "text": [
      "      Date           IPOName  Issue_Size  Subscription_QIB  Subscription_HNI  \\\n",
      "0  03/02/10    Infinite Comp      189.80             48.44            106.02   \n",
      "1  08/02/10    Jubilant Food      328.70             59.39             51.95   \n",
      "2  15/02/10    Syncom Health       56.25              0.99             16.60   \n",
      "3  15/02/10  Vascon Engineer      199.80              1.12              3.65   \n",
      "4  19/02/10      Thangamayil        0.00              0.52              1.52   \n",
      "\n",
      "   Subscription_RII  Subscription_Total  Issue_Price  Listing_Gains_Percent  \n",
      "0             11.08               43.22          165                  11.82  \n",
      "1              3.79               31.11          145                 -84.21  \n",
      "2              6.25                5.17           75                  17.13  \n",
      "3              0.62                1.22          165                 -11.28  \n",
      "4              2.26                1.12           75                  -5.20  \n",
      "        Date           IPOName  Issue_Size  Subscription_QIB  \\\n",
      "314  26/08/22        Syrma SGS      840.13             42.42   \n",
      "315  06/09/22  Dreamfolks Serv      562.10             27.48   \n",
      "316  15/09/22              TMB      792.00              0.51   \n",
      "317  26/09/22  Harsha Engineer      755.00            113.82   \n",
      "318  17/10/22  Electronics Mar      500.00             58.81   \n",
      "\n",
      "     Subscription_HNI  Subscription_RII  Subscription_Total  Issue_Price  \\\n",
      "314              7.13              2.84               15.59          220   \n",
      "315             14.18             24.19               23.25          326   \n",
      "316              1.77              3.44                1.39          525   \n",
      "317             40.36             12.44               47.19          330   \n",
      "318             15.39              8.27               24.23           59   \n",
      "\n",
      "     Listing_Gains_Percent  \n",
      "314                  42.30  \n",
      "315                  41.92  \n",
      "316                  -3.15  \n",
      "317                  47.24  \n",
      "318                  43.14  \n"
     ]
    }
   ],
   "source": [
    "print(ipo.head())\n",
    "print(ipo.tail())"
   ]
  },
  {
   "cell_type": "code",
   "execution_count": 4,
   "metadata": {},
   "outputs": [
    {
     "name": "stdout",
     "output_type": "stream",
     "text": [
      "(319, 9)\n"
     ]
    }
   ],
   "source": [
    "print(ipo.shape)"
   ]
  },
  {
   "cell_type": "code",
   "execution_count": 5,
   "metadata": {},
   "outputs": [
    {
     "name": "stdout",
     "output_type": "stream",
     "text": [
      "<class 'pandas.core.frame.DataFrame'>\n",
      "RangeIndex: 319 entries, 0 to 318\n",
      "Data columns (total 9 columns):\n",
      " #   Column                 Non-Null Count  Dtype  \n",
      "---  ------                 --------------  -----  \n",
      " 0   Date                   319 non-null    object \n",
      " 1   IPOName                319 non-null    object \n",
      " 2   Issue_Size             319 non-null    float64\n",
      " 3   Subscription_QIB       319 non-null    float64\n",
      " 4   Subscription_HNI       319 non-null    float64\n",
      " 5   Subscription_RII       319 non-null    float64\n",
      " 6   Subscription_Total     319 non-null    float64\n",
      " 7   Issue_Price            319 non-null    int64  \n",
      " 8   Listing_Gains_Percent  319 non-null    float64\n",
      "dtypes: float64(6), int64(1), object(2)\n",
      "memory usage: 22.6+ KB\n",
      "None\n"
     ]
    }
   ],
   "source": [
    "print(ipo.info())"
   ]
  },
  {
   "cell_type": "code",
   "execution_count": 6,
   "metadata": {},
   "outputs": [
    {
     "name": "stdout",
     "output_type": "stream",
     "text": [
      "count    319.000000\n",
      "mean       4.742696\n",
      "std       47.650946\n",
      "min      -97.150000\n",
      "25%      -11.555000\n",
      "50%        1.810000\n",
      "75%       25.310000\n",
      "max      270.400000\n",
      "Name: Listing_Gains_Percent, dtype: float64\n"
     ]
    }
   ],
   "source": [
    "print(ipo['Listing_Gains_Percent'].describe())"
   ]
  },
  {
   "cell_type": "code",
   "execution_count": 7,
   "metadata": {},
   "outputs": [
    {
     "name": "stdout",
     "output_type": "stream",
     "text": [
      "         Issue_Size  Subscription_QIB  Subscription_HNI  Subscription_RII  \\\n",
      "count    319.000000        319.000000        319.000000        319.000000   \n",
      "mean    1192.859969         25.684138         70.091379          8.561599   \n",
      "std     2384.643786         40.716782        142.454416         14.508670   \n",
      "min        0.000000          0.000000          0.000000          0.000000   \n",
      "25%      169.005000          1.150000          1.255000          1.275000   \n",
      "50%      496.250000          4.940000          5.070000          3.420000   \n",
      "75%     1100.000000         34.635000         62.095000          8.605000   \n",
      "max    21000.000000        215.450000        958.070000        119.440000   \n",
      "\n",
      "       Subscription_Total  Issue_Price  Listing_Gains_Percent  \n",
      "count          319.000000   319.000000             319.000000  \n",
      "mean            27.447147   375.128527               4.742696  \n",
      "std             48.772203   353.897614              47.650946  \n",
      "min              0.000000     0.000000             -97.150000  \n",
      "25%              1.645000   119.000000             -11.555000  \n",
      "50%              4.930000   250.000000               1.810000  \n",
      "75%             33.395000   536.000000              25.310000  \n",
      "max            326.490000  2150.000000             270.400000  \n"
     ]
    }
   ],
   "source": [
    "print(ipo.describe())"
   ]
  },
  {
   "cell_type": "markdown",
   "metadata": {},
   "source": [
    "### __Initial Findings:__\n",
    "\n",
    "1. We have 319 rows and 9 columns, 7 of which are numerical. The other two are listing dates and the names of said listings\n",
    "2. No columns have null values\n",
    "3. Percentage changes in listings go from -97% to 270%, with the mean being 4.74%\n",
    "4. Issue Size and subscriptions all have wide ranges and will need to be normalized\n",
    "5. `Listing_Gains_Percent` (our target variable) is continuous, so we'll have to convert it into a categorical column for a classigication model\n"
   ]
  },
  {
   "cell_type": "markdown",
   "metadata": {},
   "source": [
    "## __Exploring the Data__\n",
    "\n",
    "We've seen that our target variable is continuous and we have to make it categorical for our intended model to work. We will now create a new variable for this, input null values if present, and select columns for modeling:"
   ]
  },
  {
   "cell_type": "code",
   "execution_count": 8,
   "metadata": {},
   "outputs": [
    {
     "name": "stdout",
     "output_type": "stream",
     "text": [
      "There are 0 null values in this new column\n"
     ]
    }
   ],
   "source": [
    "ipo['Listing_Gains_Profit'] = np.where(ipo['Listing_Gains_Percent']>0.0, 1, 0)\n",
    "\n",
    "print('There are {} null values in this new column'.format(ipo['Listing_Gains_Profit'].isna().sum()))"
   ]
  },
  {
   "cell_type": "code",
   "execution_count": 9,
   "metadata": {},
   "outputs": [
    {
     "name": "stdout",
     "output_type": "stream",
     "text": [
      "1    0.545455\n",
      "0    0.454545\n",
      "Name: Listing_Gains_Profit, dtype: float64\n"
     ]
    }
   ],
   "source": [
    "print(ipo['Listing_Gains_Profit'].value_counts(normalize = True))"
   ]
  },
  {
   "cell_type": "markdown",
   "metadata": {},
   "source": [
    "Roughly 55% of listings present any profits, so this dataset is fairly balanced. We will use a mix of issue sizes and subcription numbers by category to try and predict this, so we will not need the name of the listing and the date. We also no longer need the percent change in the listing, so we can drop this as well."
   ]
  },
  {
   "cell_type": "code",
   "execution_count": 10,
   "metadata": {},
   "outputs": [],
   "source": [
    "ipo.drop(columns = ['Date ', 'IPOName', 'Listing_Gains_Percent'], axis = 1, inplace = True)"
   ]
  },
  {
   "cell_type": "markdown",
   "metadata": {},
   "source": [
    "## __Data Visualization__\n",
    "\n",
    "Now that we have a target variable and predictors, we can explore how said predictors act in relation to profit through the use of visualizations:"
   ]
  },
  {
   "cell_type": "code",
   "execution_count": 11,
   "metadata": {},
   "outputs": [
    {
     "data": {
      "image/png": "[encoded data removed]",
      "text/plain": [
       "<Figure size 640x480 with 1 Axes>"
      ]
     },
     "metadata": {},
     "output_type": "display_data"
    }
   ],
   "source": [
    "sns.countplot(ipo, x = 'Listing_Gains_Profit').set(title = 'Distribution of Listings: Profitable or Not?')\n",
    "plt.xlabel('Profitable (1:Yes, 0:No)')\n",
    "plt.show()"
   ]
  },
  {
   "cell_type": "code",
   "execution_count": 12,
   "metadata": {},
   "outputs": [
    {
     "data": {
      "image/png": "[encoded data removed]",
      "text/plain": [
       "<Figure size 1500x1500 with 6 Axes>"
      ]
     },
     "metadata": {},
     "output_type": "display_data"
    }
   ],
   "source": [
    "target_variable = ['Listing_Gains_Profit']\n",
    "predictors = list(set(list(ipo.columns)) - set(target_variable))\n",
    "\n",
    "figure = plt.figure(figsize = (15, 15))\n",
    "for fig, category in zip(range(1,7), predictors):\n",
    "    ax = plt.subplot(3, 2, fig)\n",
    "    sns.boxplot(data = ipo,\n",
    "                  y = ipo[category], \n",
    "                  ax = ax)\n",
    "    plt.title('Outlier Distribution for {}'.format(category.replace('_', ' ')))                "
   ]
  },
  {
   "cell_type": "code",
   "execution_count": 13,
   "metadata": {},
   "outputs": [
    {
     "data": {
      "text/plain": [
       "<AxesSubplot: >"
      ]
     },
     "execution_count": 13,
     "metadata": {},
     "output_type": "execute_result"
    },
    {
     "data": {
      "image/png": "[encoded data removed]",
      "text/plain": [
       "<Figure size 1000x600 with 2 Axes>"
      ]
     },
     "metadata": {},
     "output_type": "display_data"
    }
   ],
   "source": [
    "correlations = ipo.corr()\n",
    "mask = np.triu(np.ones_like(correlations, dtype=bool))\n",
    "plt.figure(figsize=(10,6))\n",
    "sns.heatmap(correlations[abs(correlations) >= 0.3], mask = mask, annot=True, cmap=\"Blues\")"
   ]
  },
  {
   "cell_type": "markdown",
   "metadata": {},
   "source": [
    "### __Visualization Findings__\n",
    "\n",
    "1. Our numerical variables all seem to skew right with outliers in the upper end. These will need treatment\n",
    "2. There are slightly more listings that presented profits vs not\n",
    "3. Subscription variables are correlated between themselves, but the Qualified Institutional Buyer has the strongest correlation to Profits\n",
    "\n",
    "## __Outlier Treatment__\n",
    "\n",
    "Now that we determined we have have some outliers, we'll fix that by replacing anything that falls under the `lower bound` and over the `upper bound` with those respective values. This will both remove outliers and help keep values within a reasonable range to not throw off predictions."
   ]
  },
  {
   "cell_type": "code",
   "execution_count": 14,
   "metadata": {},
   "outputs": [
    {
     "name": "stdout",
     "output_type": "stream",
     "text": [
      "Updated Issue Size :\n",
      " count     319.000000\n",
      "mean      763.561238\n",
      "std       769.689122\n",
      "min         0.000000\n",
      "25%       169.005000\n",
      "50%       496.250000\n",
      "75%      1100.000000\n",
      "max      2496.492500\n",
      "Name: Issue_Size, dtype: float64 \n",
      "\n",
      "Updated Subscription QIB :\n",
      " count    319.000000\n",
      "mean      21.521183\n",
      "std       29.104549\n",
      "min        0.000000\n",
      "25%        1.150000\n",
      "50%        4.940000\n",
      "75%       34.635000\n",
      "max       84.862500\n",
      "Name: Subscription_QIB, dtype: float64 \n",
      "\n",
      "Updated Subscription HNI :\n",
      " count    319.000000\n",
      "mean      40.356426\n",
      "std       57.427921\n",
      "min        0.000000\n",
      "25%        1.255000\n",
      "50%        5.070000\n",
      "75%       62.095000\n",
      "max      153.355000\n",
      "Name: Subscription_HNI, dtype: float64 \n",
      "\n",
      "Updated Subscription Total :\n",
      " count    319.000000\n",
      "mean      20.456646\n",
      "std       27.217740\n",
      "min        0.000000\n",
      "25%        1.645000\n",
      "50%        4.930000\n",
      "75%       33.395000\n",
      "max       81.020000\n",
      "Name: Subscription_Total, dtype: float64 \n",
      "\n",
      "Updated Subscription RII :\n",
      " count    319.000000\n",
      "mean       6.060940\n",
      "std        6.176882\n",
      "min        0.000000\n",
      "25%        1.275000\n",
      "50%        3.420000\n",
      "75%        8.605000\n",
      "max       19.600000\n",
      "Name: Subscription_RII, dtype: float64 \n",
      "\n",
      "Updated Issue Price :\n",
      " count     319.000000\n",
      "mean      362.147335\n",
      "std       312.272967\n",
      "min         0.000000\n",
      "25%       119.000000\n",
      "50%       250.000000\n",
      "75%       536.000000\n",
      "max      1161.500000\n",
      "Name: Issue_Price, dtype: float64 \n",
      "\n"
     ]
    }
   ],
   "source": [
    "for col in predictors:\n",
    "    q1 = ipo[col].quantile(q=0.25)\n",
    "    q3 = ipo[col].quantile(q=0.75)\n",
    "    iqr = q3 - q1   \n",
    "    lower = (q1 - 1.5 * iqr) \n",
    "    upper = (q3 + 1.5 * iqr) \n",
    "    ipo[col] = np.where(ipo[col] > upper, upper, ipo[col]) # replace outliers with upper bound\n",
    "    ipo[col] = np.where(ipo[col] <lower, lower, ipo[col]) # replace outliers with lower bound\n",
    "    print('Updated {}'.format(col.replace('_',' ')), ':\\n',ipo[col].describe(), '\\n')"
   ]
  },
  {
   "cell_type": "markdown",
   "metadata": {},
   "source": [
    "## Normalizing Predictor Variables__\n",
    "\n",
    "Now that we've removed outliers, the final step before getting into predictions is to normalize our predictor variables. Since each variable has a different range, if we took them as is each variable would have a different weight to them. To solve this, we'll transform the values in the predictor variables to be a proportion of their respective maximum value. This will ensure that each number in those columns only ranges from 0 to 1."
   ]
  },
  {
   "cell_type": "code",
   "execution_count": 15,
   "metadata": {},
   "outputs": [
    {
     "data": {
      "text/html": [
       "<div>\n",
       "<style scoped>\n",
       "    .dataframe tbody tr th:only-of-type {\n",
       "        vertical-align: middle;\n",
       "    }\n",
       "\n",
       "    .dataframe tbody tr th {\n",
       "        vertical-align: top;\n",
       "    }\n",
       "\n",
       "    .dataframe thead th {\n",
       "        text-align: right;\n",
       "    }\n",
       "</style>\n",
       "<table border=\"1\" class=\"dataframe\">\n",
       "  <thead>\n",
       "    <tr style=\"text-align: right;\">\n",
       "      <th></th>\n",
       "      <th>Issue_Size</th>\n",
       "      <th>Subscription_QIB</th>\n",
       "      <th>Subscription_HNI</th>\n",
       "      <th>Subscription_RII</th>\n",
       "      <th>Subscription_Total</th>\n",
       "      <th>Issue_Price</th>\n",
       "      <th>Listing_Gains_Profit</th>\n",
       "    </tr>\n",
       "  </thead>\n",
       "  <tbody>\n",
       "    <tr>\n",
       "      <th>count</th>\n",
       "      <td>319.000000</td>\n",
       "      <td>319.000000</td>\n",
       "      <td>319.000000</td>\n",
       "      <td>319.000000</td>\n",
       "      <td>319.000000</td>\n",
       "      <td>319.000000</td>\n",
       "      <td>319.000000</td>\n",
       "    </tr>\n",
       "    <tr>\n",
       "      <th>mean</th>\n",
       "      <td>0.305854</td>\n",
       "      <td>0.253601</td>\n",
       "      <td>0.263157</td>\n",
       "      <td>0.309232</td>\n",
       "      <td>0.252489</td>\n",
       "      <td>0.311793</td>\n",
       "      <td>0.545455</td>\n",
       "    </tr>\n",
       "    <tr>\n",
       "      <th>std</th>\n",
       "      <td>0.308308</td>\n",
       "      <td>0.342961</td>\n",
       "      <td>0.374477</td>\n",
       "      <td>0.315147</td>\n",
       "      <td>0.335939</td>\n",
       "      <td>0.268853</td>\n",
       "      <td>0.498712</td>\n",
       "    </tr>\n",
       "    <tr>\n",
       "      <th>min</th>\n",
       "      <td>0.000000</td>\n",
       "      <td>0.000000</td>\n",
       "      <td>0.000000</td>\n",
       "      <td>0.000000</td>\n",
       "      <td>0.000000</td>\n",
       "      <td>0.000000</td>\n",
       "      <td>0.000000</td>\n",
       "    </tr>\n",
       "    <tr>\n",
       "      <th>25%</th>\n",
       "      <td>0.067697</td>\n",
       "      <td>0.013551</td>\n",
       "      <td>0.008184</td>\n",
       "      <td>0.065051</td>\n",
       "      <td>0.020304</td>\n",
       "      <td>0.102454</td>\n",
       "      <td>0.000000</td>\n",
       "    </tr>\n",
       "    <tr>\n",
       "      <th>50%</th>\n",
       "      <td>0.198779</td>\n",
       "      <td>0.058212</td>\n",
       "      <td>0.033061</td>\n",
       "      <td>0.174490</td>\n",
       "      <td>0.060849</td>\n",
       "      <td>0.215239</td>\n",
       "      <td>1.000000</td>\n",
       "    </tr>\n",
       "    <tr>\n",
       "      <th>75%</th>\n",
       "      <td>0.440618</td>\n",
       "      <td>0.408131</td>\n",
       "      <td>0.404910</td>\n",
       "      <td>0.439031</td>\n",
       "      <td>0.412182</td>\n",
       "      <td>0.461472</td>\n",
       "      <td>1.000000</td>\n",
       "    </tr>\n",
       "    <tr>\n",
       "      <th>max</th>\n",
       "      <td>1.000000</td>\n",
       "      <td>1.000000</td>\n",
       "      <td>1.000000</td>\n",
       "      <td>1.000000</td>\n",
       "      <td>1.000000</td>\n",
       "      <td>1.000000</td>\n",
       "      <td>1.000000</td>\n",
       "    </tr>\n",
       "  </tbody>\n",
       "</table>\n",
       "</div>"
      ],
      "text/plain": [
       "       Issue_Size  Subscription_QIB  Subscription_HNI  Subscription_RII  \\\n",
       "count  319.000000        319.000000        319.000000        319.000000   \n",
       "mean     0.305854          0.253601          0.263157          0.309232   \n",
       "std      0.308308          0.342961          0.374477          0.315147   \n",
       "min      0.000000          0.000000          0.000000          0.000000   \n",
       "25%      0.067697          0.013551          0.008184          0.065051   \n",
       "50%      0.198779          0.058212          0.033061          0.174490   \n",
       "75%      0.440618          0.408131          0.404910          0.439031   \n",
       "max      1.000000          1.000000          1.000000          1.000000   \n",
       "\n",
       "       Subscription_Total  Issue_Price  Listing_Gains_Profit  \n",
       "count          319.000000   319.000000            319.000000  \n",
       "mean             0.252489     0.311793              0.545455  \n",
       "std              0.335939     0.268853              0.498712  \n",
       "min              0.000000     0.000000              0.000000  \n",
       "25%              0.020304     0.102454              0.000000  \n",
       "50%              0.060849     0.215239              1.000000  \n",
       "75%              0.412182     0.461472              1.000000  \n",
       "max              1.000000     1.000000              1.000000  "
      ]
     },
     "execution_count": 15,
     "metadata": {},
     "output_type": "execute_result"
    }
   ],
   "source": [
    "ipo[predictors] = ipo[predictors] / ipo[predictors].max()\n",
    "ipo.describe()"
   ]
  },
  {
   "cell_type": "markdown",
   "metadata": {
    "tags": []
   },
   "source": [
    "As explained above, now all of our variables have values that fall between 0 and 1, which helps with keeping any of them from having a disproportionate weight in the final predictions.\n",
    "\n",
    "## __Train/Test Split: the Holdout Validation Approach__\n",
    "\n",
    "So, how do we make sure that our model is working as intended and not over-fitting? One way to do this is through the `train_test_split` function from `scikit-learn`.\n",
    "\n",
    "As the name suggests, we will be using this to split our data into a training set and a test set. The model will then be fit to the training data, and evaluated on both sets. Of course, any results from evaluating on the training set will be optimistic, so we'll consider it a success if the accuracy on the test set is similar to that in the training set.\n",
    "\n",
    "If the training set accuracy is much higher, then we probably overfit the model to our training data and will have to re-evaluate our approach.\n",
    "\n",
    "We've already imported the relevant function at the beginning. We will use 70% of our data for training, and we will set a random state seed for reproducibility:"
   ]
  },
  {
   "cell_type": "code",
   "execution_count": 16,
   "metadata": {},
   "outputs": [
    {
     "name": "stdout",
     "output_type": "stream",
     "text": [
      "(223, 6)\n",
      "(96, 6)\n"
     ]
    }
   ],
   "source": [
    "X = ipo[predictors].values\n",
    "y = ipo[target_variable].values\n",
    "\n",
    "X_train, X_test, y_train, y_test = train_test_split(X, y, test_size=0.30, random_state=100)\n",
    "print(X_train.shape); print(X_test.shape)"
   ]
  },
  {
   "cell_type": "markdown",
   "metadata": {},
   "source": [
    "## __Defining then Deep Learning Classification Model__\n",
    "\n",
    "Now, we are finally ready to define our mode. Again, we will greate a random_state seed for reproducibility. We will instantiate a Deep model with the `Sequential` class from Tensorflow's `Keras`. The model architecture is comprised of four hidden layers with relu as the activation function. The output layer uses a sigmoid activation function, which is a good choice for a binary classification model."
   ]
  },
  {
   "cell_type": "code",
   "execution_count": 17,
   "metadata": {},
   "outputs": [],
   "source": [
    "# define model\n",
    "tf.random.set_seed(100)\n",
    "model = tf.keras.Sequential()\n",
    "model.add(tf.keras.layers.Dense(32, input_shape = (X_train.shape[1],), activation = 'relu'))\n",
    "model.add(tf.keras.layers.Dense(16, activation= 'relu'))\n",
    "model.add(tf.keras.layers.Dense(8, activation= 'relu'))\n",
    "model.add(tf.keras.layers.Dense(4, activation= 'relu'))\n",
    "model.add(tf.keras.layers.Dense(1, activation='sigmoid'))    "
   ]
  },
  {
   "cell_type": "markdown",
   "metadata": {},
   "source": [
    "## __Compiling and Training the Model__\n",
    "\n",
    "Now that we instantiated our model, we will compile it. To do so, we need three things:\n",
    "\n",
    "1. An optimizer: We will use a popular function for this, `Adam()`\n",
    "2. A loss function: We will use `BinaryCrossentropy`. This loss function is useful for binary classification applications\n",
    "3. An evaluation metric: we will use `accuracy`, since our main goal is to know if this model can predict if an IPO produced profits or not"
   ]
  },
  {
   "cell_type": "code",
   "execution_count": 18,
   "metadata": {},
   "outputs": [],
   "source": [
    "model.compile(optimizer=tf.keras.optimizers.Adam(0.001),\n",
    "              loss=tf.keras.losses.BinaryCrossentropy(),\n",
    "              metrics=['accuracy'])"
   ]
  },
  {
   "cell_type": "code",
   "execution_count": 19,
   "metadata": {},
   "outputs": [
    {
     "name": "stdout",
     "output_type": "stream",
     "text": [
      "Model: \"sequential\"\n",
      "_________________________________________________________________\n",
      " Layer (type)                Output Shape              Param #   \n",
      "=================================================================\n",
      " dense (Dense)               (None, 32)                224       \n",
      "                                                                 \n",
      " dense_1 (Dense)             (None, 16)                528       \n",
      "                                                                 \n",
      " dense_2 (Dense)             (None, 8)                 136       \n",
      "                                                                 \n",
      " dense_3 (Dense)             (None, 4)                 36        \n",
      "                                                                 \n",
      " dense_4 (Dense)             (None, 1)                 5         \n",
      "                                                                 \n",
      "=================================================================\n",
      "Total params: 929\n",
      "Trainable params: 929\n",
      "Non-trainable params: 0\n",
      "_________________________________________________________________\n"
     ]
    }
   ],
   "source": [
    "model.summary()"
   ]
  },
  {
   "cell_type": "markdown",
   "metadata": {},
   "source": [
    "With these things done, we can not fit the model to our training data. We have to set an appropriate number of epochs to train the model, and we'll use 250 iterations this time:"
   ]
  },
  {
   "cell_type": "code",
   "execution_count": 20,
   "metadata": {},
   "outputs": [
    {
     "name": "stdout",
     "output_type": "stream",
     "text": [
      "Epoch 1/250\n",
      "7/7 [==============================] - 1s 8ms/step - loss: 0.6826 - accuracy: 0.5605\n",
      "Epoch 2/250\n",
      "7/7 [==============================] - 0s 1ms/step - loss: 0.6790 - accuracy: 0.5561\n",
      "Epoch 3/250\n",
      "7/7 [==============================] - 0s 1ms/step - loss: 0.6769 - accuracy: 0.5561\n",
      "Epoch 4/250\n",
      "7/7 [==============================] - 0s 1ms/step - loss: 0.6729 - accuracy: 0.5561\n",
      "Epoch 5/250\n",
      "7/7 [==============================] - 0s 1ms/step - loss: 0.6699 - accuracy: 0.5561\n",
      "Epoch 6/250\n",
      "7/7 [==============================] - 0s 13ms/step - loss: 0.6664 - accuracy: 0.5561\n",
      "Epoch 7/250\n",
      "7/7 [==============================] - 0s 1ms/step - loss: 0.6629 - accuracy: 0.5561\n",
      "Epoch 8/250\n",
      "7/7 [==============================] - 0s 1ms/step - loss: 0.6598 - accuracy: 0.5561\n",
      "Epoch 9/250\n",
      "7/7 [==============================] - 0s 13ms/step - loss: 0.6558 - accuracy: 0.5561\n",
      "Epoch 10/250\n",
      "7/7 [==============================] - 0s 1ms/step - loss: 0.6519 - accuracy: 0.5561\n",
      "Epoch 11/250\n",
      "7/7 [==============================] - 0s 1ms/step - loss: 0.6485 - accuracy: 0.5561\n",
      "Epoch 12/250\n",
      "7/7 [==============================] - 0s 1ms/step - loss: 0.6450 - accuracy: 0.5561\n",
      "Epoch 13/250\n",
      "7/7 [==============================] - 0s 1ms/step - loss: 0.6421 - accuracy: 0.5561\n",
      "Epoch 14/250\n",
      "7/7 [==============================] - 0s 13ms/step - loss: 0.6395 - accuracy: 0.5561\n",
      "Epoch 15/250\n",
      "7/7 [==============================] - 0s 2ms/step - loss: 0.6377 - accuracy: 0.5561\n",
      "Epoch 16/250\n",
      "7/7 [==============================] - 0s 1ms/step - loss: 0.6356 - accuracy: 0.5830\n",
      "Epoch 17/250\n",
      "7/7 [==============================] - 0s 12ms/step - loss: 0.6336 - accuracy: 0.6054\n",
      "Epoch 18/250\n",
      "7/7 [==============================] - 0s 1ms/step - loss: 0.6329 - accuracy: 0.6233\n",
      "Epoch 19/250\n",
      "7/7 [==============================] - 0s 1ms/step - loss: 0.6318 - accuracy: 0.6278\n",
      "Epoch 20/250\n",
      "7/7 [==============================] - 0s 12ms/step - loss: 0.6308 - accuracy: 0.6368\n",
      "Epoch 21/250\n",
      "7/7 [==============================] - 0s 1ms/step - loss: 0.6296 - accuracy: 0.6368\n",
      "Epoch 22/250\n",
      "7/7 [==============================] - 0s 1ms/step - loss: 0.6291 - accuracy: 0.6323\n",
      "Epoch 23/250\n",
      "7/7 [==============================] - 0s 12ms/step - loss: 0.6281 - accuracy: 0.6457\n",
      "Epoch 24/250\n",
      "7/7 [==============================] - 0s 1ms/step - loss: 0.6276 - accuracy: 0.6368\n",
      "Epoch 25/250\n",
      "7/7 [==============================] - 0s 1ms/step - loss: 0.6266 - accuracy: 0.6323\n",
      "Epoch 26/250\n",
      "7/7 [==============================] - 0s 1ms/step - loss: 0.6267 - accuracy: 0.6413\n",
      "Epoch 27/250\n",
      "7/7 [==============================] - 0s 12ms/step - loss: 0.6259 - accuracy: 0.6368\n",
      "Epoch 28/250\n",
      "7/7 [==============================] - 0s 1ms/step - loss: 0.6247 - accuracy: 0.6368\n",
      "Epoch 29/250\n",
      "7/7 [==============================] - 0s 1ms/step - loss: 0.6241 - accuracy: 0.6413\n",
      "Epoch 30/250\n",
      "7/7 [==============================] - 0s 1ms/step - loss: 0.6236 - accuracy: 0.6413\n",
      "Epoch 31/250\n",
      "7/7 [==============================] - 0s 1ms/step - loss: 0.6226 - accuracy: 0.6457\n",
      "Epoch 32/250\n",
      "7/7 [==============================] - 0s 1ms/step - loss: 0.6222 - accuracy: 0.6413\n",
      "Epoch 33/250\n",
      "7/7 [==============================] - 0s 1ms/step - loss: 0.6213 - accuracy: 0.6502\n",
      "Epoch 34/250\n",
      "7/7 [==============================] - 0s 12ms/step - loss: 0.6204 - accuracy: 0.6457\n",
      "Epoch 35/250\n",
      "7/7 [==============================] - 0s 1ms/step - loss: 0.6196 - accuracy: 0.6457\n",
      "Epoch 36/250\n",
      "7/7 [==============================] - 0s 1ms/step - loss: 0.6193 - accuracy: 0.6457\n",
      "Epoch 37/250\n",
      "7/7 [==============================] - 0s 1ms/step - loss: 0.6184 - accuracy: 0.6502\n",
      "Epoch 38/250\n",
      "7/7 [==============================] - 0s 1ms/step - loss: 0.6177 - accuracy: 0.6502\n",
      "Epoch 39/250\n",
      "7/7 [==============================] - 0s 1ms/step - loss: 0.6172 - accuracy: 0.6547\n",
      "Epoch 40/250\n",
      "7/7 [==============================] - 0s 1ms/step - loss: 0.6168 - accuracy: 0.6682\n",
      "Epoch 41/250\n",
      "7/7 [==============================] - 0s 12ms/step - loss: 0.6158 - accuracy: 0.6637\n",
      "Epoch 42/250\n",
      "7/7 [==============================] - 0s 1ms/step - loss: 0.6156 - accuracy: 0.6637\n",
      "Epoch 43/250\n",
      "7/7 [==============================] - 0s 1ms/step - loss: 0.6146 - accuracy: 0.6547\n",
      "Epoch 44/250\n",
      "7/7 [==============================] - 0s 1ms/step - loss: 0.6142 - accuracy: 0.6368\n",
      "Epoch 45/250\n",
      "7/7 [==============================] - 0s 1ms/step - loss: 0.6136 - accuracy: 0.6368\n",
      "Epoch 46/250\n",
      "7/7 [==============================] - 0s 1ms/step - loss: 0.6140 - accuracy: 0.6547\n",
      "Epoch 47/250\n",
      "7/7 [==============================] - 0s 1ms/step - loss: 0.6127 - accuracy: 0.6682\n",
      "Epoch 48/250\n",
      "7/7 [==============================] - 0s 11ms/step - loss: 0.6116 - accuracy: 0.6682\n",
      "Epoch 49/250\n",
      "7/7 [==============================] - 0s 1ms/step - loss: 0.6107 - accuracy: 0.6682\n",
      "Epoch 50/250\n",
      "7/7 [==============================] - 0s 1ms/step - loss: 0.6104 - accuracy: 0.6682\n",
      "Epoch 51/250\n",
      "7/7 [==============================] - 0s 1ms/step - loss: 0.6105 - accuracy: 0.6592\n",
      "Epoch 52/250\n",
      "7/7 [==============================] - 0s 12ms/step - loss: 0.6097 - accuracy: 0.6413\n",
      "Epoch 53/250\n",
      "7/7 [==============================] - 0s 1ms/step - loss: 0.6091 - accuracy: 0.6771\n",
      "Epoch 54/250\n",
      "7/7 [==============================] - 0s 1ms/step - loss: 0.6083 - accuracy: 0.6726\n",
      "Epoch 55/250\n",
      "7/7 [==============================] - 0s 1ms/step - loss: 0.6074 - accuracy: 0.6726\n",
      "Epoch 56/250\n",
      "7/7 [==============================] - 0s 1ms/step - loss: 0.6074 - accuracy: 0.6682\n",
      "Epoch 57/250\n",
      "7/7 [==============================] - 0s 1ms/step - loss: 0.6071 - accuracy: 0.6682\n",
      "Epoch 58/250\n",
      "7/7 [==============================] - 0s 1ms/step - loss: 0.6062 - accuracy: 0.6682\n",
      "Epoch 59/250\n",
      "7/7 [==============================] - 0s 12ms/step - loss: 0.6051 - accuracy: 0.6682\n",
      "Epoch 60/250\n",
      "7/7 [==============================] - 0s 1ms/step - loss: 0.6051 - accuracy: 0.6726\n",
      "Epoch 61/250\n",
      "7/7 [==============================] - 0s 1ms/step - loss: 0.6038 - accuracy: 0.6726\n",
      "Epoch 62/250\n",
      "7/7 [==============================] - 0s 1ms/step - loss: 0.6033 - accuracy: 0.6682\n",
      "Epoch 63/250\n",
      "7/7 [==============================] - 0s 12ms/step - loss: 0.6038 - accuracy: 0.6637\n",
      "Epoch 64/250\n",
      "7/7 [==============================] - 0s 1ms/step - loss: 0.6031 - accuracy: 0.6637\n",
      "Epoch 65/250\n",
      "7/7 [==============================] - 0s 1ms/step - loss: 0.6018 - accuracy: 0.6726\n",
      "Epoch 66/250\n",
      "7/7 [==============================] - 0s 1ms/step - loss: 0.6010 - accuracy: 0.6771\n",
      "Epoch 67/250\n",
      "7/7 [==============================] - 0s 12ms/step - loss: 0.6007 - accuracy: 0.6682\n",
      "Epoch 68/250\n",
      "7/7 [==============================] - 0s 1ms/step - loss: 0.5999 - accuracy: 0.6637\n",
      "Epoch 69/250\n",
      "7/7 [==============================] - 0s 1ms/step - loss: 0.5995 - accuracy: 0.6726\n",
      "Epoch 70/250\n",
      "7/7 [==============================] - 0s 12ms/step - loss: 0.5986 - accuracy: 0.6771\n",
      "Epoch 71/250\n",
      "7/7 [==============================] - 0s 1ms/step - loss: 0.5980 - accuracy: 0.6726\n",
      "Epoch 72/250\n",
      "7/7 [==============================] - 0s 1ms/step - loss: 0.5984 - accuracy: 0.6682\n",
      "Epoch 73/250\n",
      "7/7 [==============================] - 0s 1ms/step - loss: 0.5982 - accuracy: 0.6726\n",
      "Epoch 74/250\n",
      "7/7 [==============================] - 0s 1ms/step - loss: 0.5976 - accuracy: 0.6547\n",
      "Epoch 75/250\n",
      "7/7 [==============================] - 0s 1ms/step - loss: 0.5954 - accuracy: 0.6816\n",
      "Epoch 76/250\n",
      "7/7 [==============================] - 0s 1ms/step - loss: 0.5950 - accuracy: 0.6771\n",
      "Epoch 77/250\n",
      "7/7 [==============================] - 0s 12ms/step - loss: 0.5943 - accuracy: 0.6771\n",
      "Epoch 78/250\n",
      "7/7 [==============================] - 0s 1ms/step - loss: 0.5935 - accuracy: 0.6682\n",
      "Epoch 79/250\n",
      "7/7 [==============================] - 0s 1ms/step - loss: 0.5936 - accuracy: 0.6726\n",
      "Epoch 80/250\n",
      "7/7 [==============================] - 0s 1ms/step - loss: 0.5927 - accuracy: 0.6682\n",
      "Epoch 81/250\n",
      "7/7 [==============================] - 0s 12ms/step - loss: 0.5918 - accuracy: 0.6726\n",
      "Epoch 82/250\n",
      "7/7 [==============================] - 0s 1ms/step - loss: 0.5921 - accuracy: 0.6726\n",
      "Epoch 83/250\n",
      "7/7 [==============================] - 0s 1ms/step - loss: 0.5918 - accuracy: 0.6682\n",
      "Epoch 84/250\n",
      "7/7 [==============================] - 0s 12ms/step - loss: 0.5902 - accuracy: 0.6637\n",
      "Epoch 85/250\n",
      "7/7 [==============================] - 0s 1ms/step - loss: 0.5888 - accuracy: 0.6816\n",
      "Epoch 86/250\n",
      "7/7 [==============================] - 0s 1ms/step - loss: 0.5895 - accuracy: 0.6726\n",
      "Epoch 87/250\n",
      "7/7 [==============================] - 0s 1ms/step - loss: 0.5878 - accuracy: 0.6771\n",
      "Epoch 88/250\n",
      "7/7 [==============================] - 0s 1ms/step - loss: 0.5869 - accuracy: 0.6771\n",
      "Epoch 89/250\n",
      "7/7 [==============================] - 0s 1ms/step - loss: 0.5870 - accuracy: 0.6771\n",
      "Epoch 90/250\n",
      "7/7 [==============================] - 0s 1ms/step - loss: 0.5860 - accuracy: 0.6726\n",
      "Epoch 91/250\n",
      "7/7 [==============================] - 0s 12ms/step - loss: 0.5856 - accuracy: 0.6816\n",
      "Epoch 92/250\n",
      "7/7 [==============================] - 0s 1ms/step - loss: 0.5858 - accuracy: 0.6682\n",
      "Epoch 93/250\n",
      "7/7 [==============================] - 0s 1ms/step - loss: 0.5838 - accuracy: 0.6726\n",
      "Epoch 94/250\n",
      "7/7 [==============================] - 0s 1ms/step - loss: 0.5841 - accuracy: 0.6682\n",
      "Epoch 95/250\n",
      "7/7 [==============================] - 0s 12ms/step - loss: 0.5830 - accuracy: 0.6861\n",
      "Epoch 96/250\n",
      "7/7 [==============================] - 0s 1ms/step - loss: 0.5832 - accuracy: 0.6682\n",
      "Epoch 97/250\n",
      "7/7 [==============================] - 0s 1ms/step - loss: 0.5810 - accuracy: 0.6816\n",
      "Epoch 98/250\n",
      "7/7 [==============================] - 0s 1ms/step - loss: 0.5815 - accuracy: 0.6816\n",
      "Epoch 99/250\n",
      "7/7 [==============================] - 0s 12ms/step - loss: 0.5805 - accuracy: 0.6816\n",
      "Epoch 100/250\n",
      "7/7 [==============================] - 0s 1ms/step - loss: 0.5801 - accuracy: 0.6861\n",
      "Epoch 101/250\n",
      "7/7 [==============================] - 0s 1ms/step - loss: 0.5794 - accuracy: 0.6861\n",
      "Epoch 102/250\n",
      "7/7 [==============================] - 0s 1ms/step - loss: 0.5789 - accuracy: 0.6816\n",
      "Epoch 103/250\n",
      "7/7 [==============================] - 0s 1ms/step - loss: 0.5787 - accuracy: 0.6861\n",
      "Epoch 104/250\n",
      "7/7 [==============================] - 0s 1ms/step - loss: 0.5775 - accuracy: 0.6861\n",
      "Epoch 105/250\n",
      "7/7 [==============================] - 0s 1ms/step - loss: 0.5775 - accuracy: 0.6816\n",
      "Epoch 106/250\n",
      "7/7 [==============================] - 0s 1ms/step - loss: 0.5780 - accuracy: 0.6816\n",
      "Epoch 107/250\n",
      "7/7 [==============================] - 0s 1ms/step - loss: 0.5760 - accuracy: 0.6816\n",
      "Epoch 108/250\n",
      "7/7 [==============================] - 0s 1ms/step - loss: 0.5773 - accuracy: 0.6816\n",
      "Epoch 109/250\n",
      "7/7 [==============================] - 0s 1ms/step - loss: 0.5768 - accuracy: 0.6726\n",
      "Epoch 110/250\n",
      "7/7 [==============================] - 0s 12ms/step - loss: 0.5743 - accuracy: 0.6861\n",
      "Epoch 111/250\n",
      "7/7 [==============================] - 0s 1ms/step - loss: 0.5766 - accuracy: 0.6906\n",
      "Epoch 112/250\n",
      "7/7 [==============================] - 0s 1ms/step - loss: 0.5757 - accuracy: 0.6861\n",
      "Epoch 113/250\n",
      "7/7 [==============================] - 0s 12ms/step - loss: 0.5742 - accuracy: 0.6816\n",
      "Epoch 114/250\n",
      "7/7 [==============================] - 0s 1ms/step - loss: 0.5725 - accuracy: 0.6816\n",
      "Epoch 115/250\n",
      "7/7 [==============================] - 0s 1ms/step - loss: 0.5724 - accuracy: 0.6906\n",
      "Epoch 116/250\n",
      "7/7 [==============================] - 0s 1ms/step - loss: 0.5718 - accuracy: 0.6861\n",
      "Epoch 117/250\n",
      "7/7 [==============================] - 0s 12ms/step - loss: 0.5711 - accuracy: 0.6816\n",
      "Epoch 118/250\n",
      "7/7 [==============================] - 0s 1ms/step - loss: 0.5710 - accuracy: 0.6906\n",
      "Epoch 119/250\n",
      "7/7 [==============================] - 0s 1ms/step - loss: 0.5705 - accuracy: 0.6861\n",
      "Epoch 120/250\n",
      "7/7 [==============================] - 0s 13ms/step - loss: 0.5717 - accuracy: 0.6861\n",
      "Epoch 121/250\n",
      "7/7 [==============================] - 0s 2ms/step - loss: 0.5702 - accuracy: 0.6906\n",
      "Epoch 122/250\n",
      "7/7 [==============================] - 0s 1ms/step - loss: 0.5698 - accuracy: 0.6951\n",
      "Epoch 123/250\n",
      "7/7 [==============================] - 0s 1ms/step - loss: 0.5701 - accuracy: 0.6816\n",
      "Epoch 124/250\n",
      "7/7 [==============================] - 0s 1ms/step - loss: 0.5695 - accuracy: 0.6816\n",
      "Epoch 125/250\n",
      "7/7 [==============================] - 0s 1ms/step - loss: 0.5678 - accuracy: 0.7040\n",
      "Epoch 126/250\n",
      "7/7 [==============================] - 0s 1ms/step - loss: 0.5684 - accuracy: 0.6996\n",
      "Epoch 127/250\n",
      "7/7 [==============================] - 0s 12ms/step - loss: 0.5688 - accuracy: 0.7040\n",
      "Epoch 128/250\n",
      "7/7 [==============================] - 0s 1ms/step - loss: 0.5697 - accuracy: 0.6771\n",
      "Epoch 129/250\n",
      "7/7 [==============================] - 0s 13ms/step - loss: 0.5682 - accuracy: 0.6906\n",
      "Epoch 130/250\n",
      "7/7 [==============================] - 0s 1ms/step - loss: 0.5712 - accuracy: 0.6951\n",
      "Epoch 131/250\n",
      "7/7 [==============================] - 0s 1ms/step - loss: 0.5671 - accuracy: 0.6906\n",
      "Epoch 132/250\n",
      "7/7 [==============================] - 0s 1ms/step - loss: 0.5668 - accuracy: 0.6861\n",
      "Epoch 133/250\n",
      "7/7 [==============================] - 0s 1ms/step - loss: 0.5662 - accuracy: 0.7085\n",
      "Epoch 134/250\n",
      "7/7 [==============================] - 0s 1ms/step - loss: 0.5653 - accuracy: 0.7040\n",
      "Epoch 135/250\n",
      "7/7 [==============================] - 0s 1ms/step - loss: 0.5643 - accuracy: 0.6951\n",
      "Epoch 136/250\n",
      "7/7 [==============================] - 0s 1ms/step - loss: 0.5646 - accuracy: 0.7040\n",
      "Epoch 137/250\n",
      "7/7 [==============================] - 0s 1ms/step - loss: 0.5639 - accuracy: 0.7085\n",
      "Epoch 138/250\n",
      "7/7 [==============================] - 0s 1ms/step - loss: 0.5644 - accuracy: 0.7085\n",
      "Epoch 139/250\n",
      "7/7 [==============================] - 0s 1ms/step - loss: 0.5647 - accuracy: 0.7130\n",
      "Epoch 140/250\n",
      "7/7 [==============================] - 0s 12ms/step - loss: 0.5636 - accuracy: 0.7040\n",
      "Epoch 141/250\n",
      "7/7 [==============================] - 0s 1ms/step - loss: 0.5618 - accuracy: 0.7085\n",
      "Epoch 142/250\n",
      "7/7 [==============================] - 0s 1ms/step - loss: 0.5628 - accuracy: 0.6906\n",
      "Epoch 143/250\n",
      "7/7 [==============================] - 0s 12ms/step - loss: 0.5609 - accuracy: 0.7130\n",
      "Epoch 144/250\n",
      "7/7 [==============================] - 0s 1ms/step - loss: 0.5609 - accuracy: 0.7130\n",
      "Epoch 145/250\n",
      "7/7 [==============================] - 0s 1ms/step - loss: 0.5608 - accuracy: 0.7130\n",
      "Epoch 146/250\n",
      "7/7 [==============================] - 0s 1ms/step - loss: 0.5611 - accuracy: 0.7130\n",
      "Epoch 147/250\n",
      "7/7 [==============================] - 0s 1ms/step - loss: 0.5605 - accuracy: 0.7130\n",
      "Epoch 148/250\n",
      "7/7 [==============================] - 0s 1ms/step - loss: 0.5603 - accuracy: 0.7130\n",
      "Epoch 149/250\n",
      "7/7 [==============================] - 0s 1ms/step - loss: 0.5597 - accuracy: 0.7175\n",
      "Epoch 150/250\n",
      "7/7 [==============================] - 0s 12ms/step - loss: 0.5587 - accuracy: 0.7175\n",
      "Epoch 151/250\n",
      "7/7 [==============================] - 0s 1ms/step - loss: 0.5603 - accuracy: 0.7175\n",
      "Epoch 152/250\n",
      "7/7 [==============================] - 0s 1ms/step - loss: 0.5582 - accuracy: 0.7220\n",
      "Epoch 153/250\n",
      "7/7 [==============================] - 0s 1ms/step - loss: 0.5594 - accuracy: 0.6996\n",
      "Epoch 154/250\n",
      "7/7 [==============================] - 0s 12ms/step - loss: 0.5589 - accuracy: 0.7040\n",
      "Epoch 155/250\n",
      "7/7 [==============================] - 0s 1ms/step - loss: 0.5600 - accuracy: 0.7175\n",
      "Epoch 156/250\n",
      "7/7 [==============================] - 0s 1ms/step - loss: 0.5580 - accuracy: 0.7085\n",
      "Epoch 157/250\n",
      "7/7 [==============================] - 0s 12ms/step - loss: 0.5561 - accuracy: 0.7220\n",
      "Epoch 158/250\n",
      "7/7 [==============================] - 0s 1ms/step - loss: 0.5571 - accuracy: 0.7220\n",
      "Epoch 159/250\n",
      "7/7 [==============================] - 0s 1ms/step - loss: 0.5564 - accuracy: 0.7175\n",
      "Epoch 160/250\n",
      "7/7 [==============================] - 0s 12ms/step - loss: 0.5571 - accuracy: 0.7130\n",
      "Epoch 161/250\n",
      "7/7 [==============================] - 0s 1ms/step - loss: 0.5567 - accuracy: 0.7175\n",
      "Epoch 162/250\n",
      "7/7 [==============================] - 0s 1ms/step - loss: 0.5574 - accuracy: 0.7175\n",
      "Epoch 163/250\n",
      "7/7 [==============================] - 0s 1ms/step - loss: 0.5566 - accuracy: 0.7085\n",
      "Epoch 164/250\n",
      "7/7 [==============================] - 0s 1ms/step - loss: 0.5552 - accuracy: 0.7220\n",
      "Epoch 165/250\n",
      "7/7 [==============================] - 0s 1ms/step - loss: 0.5551 - accuracy: 0.7175\n",
      "Epoch 166/250\n",
      "7/7 [==============================] - 0s 1ms/step - loss: 0.5536 - accuracy: 0.7175\n",
      "Epoch 167/250\n",
      "7/7 [==============================] - 0s 12ms/step - loss: 0.5546 - accuracy: 0.7085\n",
      "Epoch 168/250\n",
      "7/7 [==============================] - 0s 1ms/step - loss: 0.5545 - accuracy: 0.7130\n",
      "Epoch 169/250\n",
      "7/7 [==============================] - 0s 1ms/step - loss: 0.5542 - accuracy: 0.7220\n",
      "Epoch 170/250\n",
      "7/7 [==============================] - 0s 12ms/step - loss: 0.5587 - accuracy: 0.6996\n",
      "Epoch 171/250\n",
      "7/7 [==============================] - 0s 1ms/step - loss: 0.5537 - accuracy: 0.6996\n",
      "Epoch 172/250\n",
      "7/7 [==============================] - 0s 1ms/step - loss: 0.5544 - accuracy: 0.7220\n",
      "Epoch 173/250\n",
      "7/7 [==============================] - 0s 1ms/step - loss: 0.5527 - accuracy: 0.7265\n",
      "Epoch 174/250\n",
      "7/7 [==============================] - 0s 1ms/step - loss: 0.5528 - accuracy: 0.7175\n",
      "Epoch 175/250\n",
      "7/7 [==============================] - 0s 1ms/step - loss: 0.5531 - accuracy: 0.7085\n",
      "Epoch 176/250\n",
      "7/7 [==============================] - 0s 1ms/step - loss: 0.5548 - accuracy: 0.7085\n",
      "Epoch 177/250\n",
      "7/7 [==============================] - 0s 12ms/step - loss: 0.5512 - accuracy: 0.7220\n",
      "Epoch 178/250\n",
      "7/7 [==============================] - 0s 1ms/step - loss: 0.5509 - accuracy: 0.7175\n",
      "Epoch 179/250\n",
      "7/7 [==============================] - 0s 1ms/step - loss: 0.5501 - accuracy: 0.7220\n",
      "Epoch 180/250\n",
      "7/7 [==============================] - 0s 1ms/step - loss: 0.5495 - accuracy: 0.7220\n",
      "Epoch 181/250\n",
      "7/7 [==============================] - 0s 1ms/step - loss: 0.5502 - accuracy: 0.7220\n",
      "Epoch 182/250\n",
      "7/7 [==============================] - 0s 1ms/step - loss: 0.5492 - accuracy: 0.7220\n",
      "Epoch 183/250\n",
      "7/7 [==============================] - 0s 1ms/step - loss: 0.5504 - accuracy: 0.7085\n",
      "Epoch 184/250\n",
      "7/7 [==============================] - 0s 12ms/step - loss: 0.5487 - accuracy: 0.7265\n",
      "Epoch 185/250\n",
      "7/7 [==============================] - 0s 1ms/step - loss: 0.5480 - accuracy: 0.7220\n",
      "Epoch 186/250\n",
      "7/7 [==============================] - 0s 1ms/step - loss: 0.5492 - accuracy: 0.7220\n",
      "Epoch 187/250\n",
      "7/7 [==============================] - 0s 1ms/step - loss: 0.5491 - accuracy: 0.7265\n",
      "Epoch 188/250\n",
      "7/7 [==============================] - 0s 2ms/step - loss: 0.5476 - accuracy: 0.7309\n",
      "Epoch 189/250\n",
      "7/7 [==============================] - 0s 1ms/step - loss: 0.5466 - accuracy: 0.7265\n",
      "Epoch 190/250\n",
      "7/7 [==============================] - 0s 1ms/step - loss: 0.5468 - accuracy: 0.7265\n",
      "Epoch 191/250\n",
      "7/7 [==============================] - 0s 1ms/step - loss: 0.5469 - accuracy: 0.7220\n",
      "Epoch 192/250\n",
      "7/7 [==============================] - 0s 1ms/step - loss: 0.5538 - accuracy: 0.7220\n",
      "Epoch 193/250\n",
      "7/7 [==============================] - 0s 1ms/step - loss: 0.5473 - accuracy: 0.7220\n",
      "Epoch 194/250\n",
      "7/7 [==============================] - 0s 12ms/step - loss: 0.5463 - accuracy: 0.7175\n",
      "Epoch 195/250\n",
      "7/7 [==============================] - 0s 1ms/step - loss: 0.5448 - accuracy: 0.7220\n",
      "Epoch 196/250\n",
      "7/7 [==============================] - 0s 1ms/step - loss: 0.5451 - accuracy: 0.7309\n",
      "Epoch 197/250\n",
      "7/7 [==============================] - 0s 1ms/step - loss: 0.5444 - accuracy: 0.7265\n",
      "Epoch 198/250\n",
      "7/7 [==============================] - 0s 1ms/step - loss: 0.5462 - accuracy: 0.7130\n",
      "Epoch 199/250\n",
      "7/7 [==============================] - 0s 1ms/step - loss: 0.5468 - accuracy: 0.7354\n",
      "Epoch 200/250\n",
      "7/7 [==============================] - 0s 1ms/step - loss: 0.5433 - accuracy: 0.7354\n",
      "Epoch 201/250\n",
      "7/7 [==============================] - 0s 12ms/step - loss: 0.5442 - accuracy: 0.7175\n",
      "Epoch 202/250\n",
      "7/7 [==============================] - 0s 1ms/step - loss: 0.5426 - accuracy: 0.7309\n",
      "Epoch 203/250\n",
      "7/7 [==============================] - 0s 1ms/step - loss: 0.5432 - accuracy: 0.7354\n",
      "Epoch 204/250\n",
      "7/7 [==============================] - 0s 12ms/step - loss: 0.5451 - accuracy: 0.7175\n",
      "Epoch 205/250\n",
      "7/7 [==============================] - 0s 1ms/step - loss: 0.5414 - accuracy: 0.7220\n",
      "Epoch 206/250\n",
      "7/7 [==============================] - 0s 1ms/step - loss: 0.5424 - accuracy: 0.7354\n",
      "Epoch 207/250\n",
      "7/7 [==============================] - 0s 1ms/step - loss: 0.5416 - accuracy: 0.7399\n",
      "Epoch 208/250\n",
      "7/7 [==============================] - 0s 13ms/step - loss: 0.5426 - accuracy: 0.7220\n",
      "Epoch 209/250\n",
      "7/7 [==============================] - 0s 1ms/step - loss: 0.5434 - accuracy: 0.7309\n",
      "Epoch 210/250\n",
      "7/7 [==============================] - 0s 2ms/step - loss: 0.5415 - accuracy: 0.7309\n",
      "Epoch 211/250\n",
      "7/7 [==============================] - 0s 2ms/step - loss: 0.5410 - accuracy: 0.7220\n",
      "Epoch 212/250\n",
      "7/7 [==============================] - 0s 1ms/step - loss: 0.5401 - accuracy: 0.7309\n",
      "Epoch 213/250\n",
      "7/7 [==============================] - 0s 1ms/step - loss: 0.5387 - accuracy: 0.7354\n",
      "Epoch 214/250\n",
      "7/7 [==============================] - 0s 1ms/step - loss: 0.5386 - accuracy: 0.7220\n",
      "Epoch 215/250\n",
      "7/7 [==============================] - 0s 1ms/step - loss: 0.5376 - accuracy: 0.7354\n",
      "Epoch 216/250\n",
      "7/7 [==============================] - 0s 1ms/step - loss: 0.5373 - accuracy: 0.7354\n",
      "Epoch 217/250\n",
      "7/7 [==============================] - 0s 11ms/step - loss: 0.5376 - accuracy: 0.7309\n",
      "Epoch 218/250\n",
      "7/7 [==============================] - 0s 1ms/step - loss: 0.5382 - accuracy: 0.7265\n",
      "Epoch 219/250\n",
      "7/7 [==============================] - 0s 1ms/step - loss: 0.5363 - accuracy: 0.7399\n",
      "Epoch 220/250\n",
      "7/7 [==============================] - 0s 1ms/step - loss: 0.5355 - accuracy: 0.7354\n",
      "Epoch 221/250\n",
      "7/7 [==============================] - 0s 1ms/step - loss: 0.5349 - accuracy: 0.7399\n",
      "Epoch 222/250\n",
      "7/7 [==============================] - 0s 1ms/step - loss: 0.5357 - accuracy: 0.7399\n",
      "Epoch 223/250\n",
      "7/7 [==============================] - 0s 1ms/step - loss: 0.5345 - accuracy: 0.7309\n",
      "Epoch 224/250\n",
      "7/7 [==============================] - 0s 1ms/step - loss: 0.5342 - accuracy: 0.7399\n",
      "Epoch 225/250\n",
      "7/7 [==============================] - 0s 1ms/step - loss: 0.5342 - accuracy: 0.7399\n",
      "Epoch 226/250\n",
      "7/7 [==============================] - 0s 12ms/step - loss: 0.5339 - accuracy: 0.7399\n",
      "Epoch 227/250\n",
      "7/7 [==============================] - 0s 1ms/step - loss: 0.5354 - accuracy: 0.7354\n",
      "Epoch 228/250\n",
      "7/7 [==============================] - 0s 1ms/step - loss: 0.5354 - accuracy: 0.7399\n",
      "Epoch 229/250\n",
      "7/7 [==============================] - 0s 12ms/step - loss: 0.5333 - accuracy: 0.7399\n",
      "Epoch 230/250\n",
      "7/7 [==============================] - 0s 1ms/step - loss: 0.5326 - accuracy: 0.7399\n",
      "Epoch 231/250\n",
      "7/7 [==============================] - 0s 1ms/step - loss: 0.5331 - accuracy: 0.7399\n",
      "Epoch 232/250\n",
      "7/7 [==============================] - 0s 1ms/step - loss: 0.5318 - accuracy: 0.7354\n",
      "Epoch 233/250\n",
      "7/7 [==============================] - 0s 11ms/step - loss: 0.5314 - accuracy: 0.7309\n",
      "Epoch 234/250\n",
      "7/7 [==============================] - 0s 1ms/step - loss: 0.5313 - accuracy: 0.7354\n",
      "Epoch 235/250\n",
      "7/7 [==============================] - 0s 1ms/step - loss: 0.5299 - accuracy: 0.7444\n",
      "Epoch 236/250\n",
      "7/7 [==============================] - 0s 12ms/step - loss: 0.5347 - accuracy: 0.7399\n",
      "Epoch 237/250\n",
      "7/7 [==============================] - 0s 1ms/step - loss: 0.5310 - accuracy: 0.7309\n",
      "Epoch 238/250\n",
      "7/7 [==============================] - 0s 1ms/step - loss: 0.5300 - accuracy: 0.7309\n",
      "Epoch 239/250\n",
      "7/7 [==============================] - 0s 1ms/step - loss: 0.5293 - accuracy: 0.7399\n",
      "Epoch 240/250\n",
      "7/7 [==============================] - 0s 12ms/step - loss: 0.5294 - accuracy: 0.7444\n",
      "Epoch 241/250\n",
      "7/7 [==============================] - 0s 1ms/step - loss: 0.5309 - accuracy: 0.7354\n",
      "Epoch 242/250\n",
      "7/7 [==============================] - 0s 1ms/step - loss: 0.5275 - accuracy: 0.7444\n",
      "Epoch 243/250\n",
      "7/7 [==============================] - 0s 12ms/step - loss: 0.5281 - accuracy: 0.7399\n",
      "Epoch 244/250\n",
      "7/7 [==============================] - 0s 1ms/step - loss: 0.5273 - accuracy: 0.7399\n",
      "Epoch 245/250\n",
      "7/7 [==============================] - 0s 1ms/step - loss: 0.5277 - accuracy: 0.7399\n",
      "Epoch 246/250\n",
      "7/7 [==============================] - 0s 1ms/step - loss: 0.5259 - accuracy: 0.7444\n",
      "Epoch 247/250\n",
      "7/7 [==============================] - 0s 12ms/step - loss: 0.5271 - accuracy: 0.7444\n",
      "Epoch 248/250\n",
      "7/7 [==============================] - 0s 1ms/step - loss: 0.5298 - accuracy: 0.7399\n",
      "Epoch 249/250\n",
      "7/7 [==============================] - 0s 1ms/step - loss: 0.5262 - accuracy: 0.7489\n",
      "Epoch 250/250\n",
      "7/7 [==============================] - 0s 1ms/step - loss: 0.5257 - accuracy: 0.7444\n"
     ]
    },
    {
     "data": {
      "text/plain": [
       "<keras.callbacks.History at 0x799bfc1cf7c0>"
      ]
     },
     "execution_count": 20,
     "metadata": {},
     "output_type": "execute_result"
    }
   ],
   "source": [
    "model.fit(X_train, y_train, epochs = 250)"
   ]
  },
  {
   "cell_type": "markdown",
   "metadata": {},
   "source": [
    "## __Evaluating the Model__\n",
    "\n",
    "Now that we have fit the model to the training data, it is finally time to evaluate its accuracy. This is important for future improvements.\n",
    "\n",
    "We will now asses the model's accuracy with both the training and testing data, so that we can control for over-fitting:"
   ]
  },
  {
   "cell_type": "code",
   "execution_count": 21,
   "metadata": {},
   "outputs": [
    {
     "name": "stdout",
     "output_type": "stream",
     "text": [
      "7/7 [==============================] - 0s 1ms/step - loss: 0.5224 - accuracy: 0.7444\n"
     ]
    },
    {
     "data": {
      "text/plain": [
       "[0.5224344730377197, 0.7443946003913879]"
      ]
     },
     "execution_count": 21,
     "metadata": {},
     "output_type": "execute_result"
    }
   ],
   "source": [
    "model.evaluate(X_train, y_train)"
   ]
  },
  {
   "cell_type": "code",
   "execution_count": 22,
   "metadata": {},
   "outputs": [
    {
     "name": "stdout",
     "output_type": "stream",
     "text": [
      "3/3 [==============================] - 0s 2ms/step - loss: 0.7280 - accuracy: 0.6875\n"
     ]
    },
    {
     "data": {
      "text/plain": [
       "[0.7280004024505615, 0.6875]"
      ]
     },
     "execution_count": 22,
     "metadata": {},
     "output_type": "execute_result"
    }
   ],
   "source": [
    "model.evaluate(X_test, y_test)"
   ]
  },
  {
   "cell_type": "markdown",
   "metadata": {},
   "source": [
    "The model evaluation output shows the performance of the model on both training and test data. The accuracy was approximately 75% on the training data and 74% on the test data. Ideally, the higher the accuracy value, the better the model is performing. It's noteworthy that the training and test set accuracies are close to each other, which shows that there is consistency and that the accuracy doesn't drop too much when we test the model on unseen data.\n",
    "\n",
    "In this project, we have built Deep Learning Classification models using the deep learning framework, Keras, in TensorFlow. We used a real-world IPO dataset and built a classifier algorithm to predict whether an IPO will list at profit or not.\n",
    "\n",
    "## __Conclusions__\n",
    "\n",
    "We used the Sequential API to build the model, which is achieving a decent accuracy of 75% and 74% on training and test data, respectively. We see that the accuracy is consistent across the training and test datasets, which is a promising sign.\n",
    "\n",
    "This is just one of the many ways to model this solution — you can try out different combinations to further improve model performance.\n",
    "\n",
    "## __Next Steps__\n",
    "\n",
    "- `Hyperparameter Optimization`: tuning the hyperparameters like learning rate, number of layers, etc., is important for finding the optimal configuration of the deep learning model.\n",
    "\n",
    "- `Optimizers and Loss Functions`: we could use different optimizers and loss functions to see which one improves the model performance.\n",
    "\n",
    "- `Features`: instead of using the base predictors in the data, we could try to construct new features that might help improve the model's predictive ability.\n",
    "\n",
    "- `Performance Metrics`: instead of using accuracy as the performance metric, we could try other performance metrics to see if that helps guide the model toward better results.\n",
    "\n",
    "- `Domain Specific Knowledge`: using domain specific knowledge to adjust the model can further enhance its performance and accuracy."
   ]
  }
 ],
 "metadata": {
  "kernelspec": {
   "display_name": "Python 3 (ipykernel)",
   "language": "python",
   "name": "python3"
  },
  "language_info": {
   "codemirror_mode": {
    "name": "ipython",
    "version": 3
   },
   "file_extension": ".py",
   "mimetype": "text/x-python",
   "name": "python",
   "nbconvert_exporter": "python",
   "pygments_lexer": "ipython3",
   "version": "3.10.12"
  }
 },
 "nbformat": 4,
 "nbformat_minor": 4
}
