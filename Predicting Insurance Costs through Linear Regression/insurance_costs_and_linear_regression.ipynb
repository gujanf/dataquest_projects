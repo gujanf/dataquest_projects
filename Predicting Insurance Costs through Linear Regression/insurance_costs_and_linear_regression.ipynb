{
 "cells": [
  {
   "cell_type": "markdown",
   "metadata": {},
   "source": [
    "# __Predicting Insurance Costs with Linear Regressions__\n",
    "\n",
    "For this project we will be using [Medical Cost Data](https://www.kaggle.com/datasets/mirichoi0218/insurance?resource=download) from Kaggle. This data set contains iformation on medical insurance bills, which are associated to some demographic and personal characteristics from the person that received it.\n",
    "\n",
    "Through this project, we will attempt to find a linear relationship between said characteristics and the __total medical cost__ of a customer's procedure. Success in this project would be important for a hospital to properly predict and anticipate its future revenue and procedures.\n",
    "\n",
    "We can start by importing the relevant libraries and modules, and then importing our dataset from the link above:"
   ]
  },
  {
   "cell_type": "code",
   "execution_count": 1,
   "metadata": {},
   "outputs": [],
   "source": [
    "import pandas as pd\n",
    "import numpy as np\n",
    "import matplotlib.pyplot as plt\n",
    "import seaborn as sns\n",
    "from sklearn.linear_model import LinearRegression\n",
    "from sklearn.model_selection import train_test_split\n",
    "from sklearn.metrics import mean_squared_error, r2_score\n",
    "\n",
    "%matplotlib inline\n",
    "\n",
    "insurance = pd.read_csv('insurance.csv')"
   ]
  },
  {
   "cell_type": "code",
   "execution_count": 2,
   "metadata": {},
   "outputs": [
    {
     "data": {
      "text/html": [
       "<div>\n",
       "<style scoped>\n",
       "    .dataframe tbody tr th:only-of-type {\n",
       "        vertical-align: middle;\n",
       "    }\n",
       "\n",
       "    .dataframe tbody tr th {\n",
       "        vertical-align: top;\n",
       "    }\n",
       "\n",
       "    .dataframe thead th {\n",
       "        text-align: right;\n",
       "    }\n",
       "</style>\n",
       "<table border=\"1\" class=\"dataframe\">\n",
       "  <thead>\n",
       "    <tr style=\"text-align: right;\">\n",
       "      <th></th>\n",
       "      <th>age</th>\n",
       "      <th>sex</th>\n",
       "      <th>bmi</th>\n",
       "      <th>children</th>\n",
       "      <th>smoker</th>\n",
       "      <th>region</th>\n",
       "      <th>charges</th>\n",
       "    </tr>\n",
       "  </thead>\n",
       "  <tbody>\n",
       "    <tr>\n",
       "      <th>0</th>\n",
       "      <td>19</td>\n",
       "      <td>female</td>\n",
       "      <td>27.900</td>\n",
       "      <td>0</td>\n",
       "      <td>yes</td>\n",
       "      <td>southwest</td>\n",
       "      <td>16884.92400</td>\n",
       "    </tr>\n",
       "    <tr>\n",
       "      <th>1</th>\n",
       "      <td>18</td>\n",
       "      <td>male</td>\n",
       "      <td>33.770</td>\n",
       "      <td>1</td>\n",
       "      <td>no</td>\n",
       "      <td>southeast</td>\n",
       "      <td>1725.55230</td>\n",
       "    </tr>\n",
       "    <tr>\n",
       "      <th>2</th>\n",
       "      <td>28</td>\n",
       "      <td>male</td>\n",
       "      <td>33.000</td>\n",
       "      <td>3</td>\n",
       "      <td>no</td>\n",
       "      <td>southeast</td>\n",
       "      <td>4449.46200</td>\n",
       "    </tr>\n",
       "    <tr>\n",
       "      <th>3</th>\n",
       "      <td>33</td>\n",
       "      <td>male</td>\n",
       "      <td>22.705</td>\n",
       "      <td>0</td>\n",
       "      <td>no</td>\n",
       "      <td>northwest</td>\n",
       "      <td>21984.47061</td>\n",
       "    </tr>\n",
       "    <tr>\n",
       "      <th>4</th>\n",
       "      <td>32</td>\n",
       "      <td>male</td>\n",
       "      <td>28.880</td>\n",
       "      <td>0</td>\n",
       "      <td>no</td>\n",
       "      <td>northwest</td>\n",
       "      <td>3866.85520</td>\n",
       "    </tr>\n",
       "  </tbody>\n",
       "</table>\n",
       "</div>"
      ],
      "text/plain": [
       "   age     sex     bmi  children smoker     region      charges\n",
       "0   19  female  27.900         0    yes  southwest  16884.92400\n",
       "1   18    male  33.770         1     no  southeast   1725.55230\n",
       "2   28    male  33.000         3     no  southeast   4449.46200\n",
       "3   33    male  22.705         0     no  northwest  21984.47061\n",
       "4   32    male  28.880         0     no  northwest   3866.85520"
      ]
     },
     "execution_count": 2,
     "metadata": {},
     "output_type": "execute_result"
    }
   ],
   "source": [
    "insurance.head()"
   ]
  },
  {
   "cell_type": "code",
   "execution_count": 3,
   "metadata": {},
   "outputs": [
    {
     "name": "stdout",
     "output_type": "stream",
     "text": [
      "<class 'pandas.core.frame.DataFrame'>\n",
      "RangeIndex: 1338 entries, 0 to 1337\n",
      "Data columns (total 7 columns):\n",
      " #   Column    Non-Null Count  Dtype  \n",
      "---  ------    --------------  -----  \n",
      " 0   age       1338 non-null   int64  \n",
      " 1   sex       1338 non-null   object \n",
      " 2   bmi       1338 non-null   float64\n",
      " 3   children  1338 non-null   int64  \n",
      " 4   smoker    1338 non-null   object \n",
      " 5   region    1338 non-null   object \n",
      " 6   charges   1338 non-null   float64\n",
      "dtypes: float64(2), int64(2), object(3)\n",
      "memory usage: 73.3+ KB\n"
     ]
    }
   ],
   "source": [
    "insurance.info()"
   ]
  },
  {
   "cell_type": "code",
   "execution_count": 4,
   "metadata": {},
   "outputs": [
    {
     "data": {
      "text/html": [
       "<div>\n",
       "<style scoped>\n",
       "    .dataframe tbody tr th:only-of-type {\n",
       "        vertical-align: middle;\n",
       "    }\n",
       "\n",
       "    .dataframe tbody tr th {\n",
       "        vertical-align: top;\n",
       "    }\n",
       "\n",
       "    .dataframe thead th {\n",
       "        text-align: right;\n",
       "    }\n",
       "</style>\n",
       "<table border=\"1\" class=\"dataframe\">\n",
       "  <thead>\n",
       "    <tr style=\"text-align: right;\">\n",
       "      <th></th>\n",
       "      <th>age</th>\n",
       "      <th>bmi</th>\n",
       "      <th>children</th>\n",
       "      <th>charges</th>\n",
       "    </tr>\n",
       "  </thead>\n",
       "  <tbody>\n",
       "    <tr>\n",
       "      <th>count</th>\n",
       "      <td>1338.000000</td>\n",
       "      <td>1338.000000</td>\n",
       "      <td>1338.000000</td>\n",
       "      <td>1338.000000</td>\n",
       "    </tr>\n",
       "    <tr>\n",
       "      <th>mean</th>\n",
       "      <td>39.207025</td>\n",
       "      <td>30.663397</td>\n",
       "      <td>1.094918</td>\n",
       "      <td>13270.422265</td>\n",
       "    </tr>\n",
       "    <tr>\n",
       "      <th>std</th>\n",
       "      <td>14.049960</td>\n",
       "      <td>6.098187</td>\n",
       "      <td>1.205493</td>\n",
       "      <td>12110.011237</td>\n",
       "    </tr>\n",
       "    <tr>\n",
       "      <th>min</th>\n",
       "      <td>18.000000</td>\n",
       "      <td>15.960000</td>\n",
       "      <td>0.000000</td>\n",
       "      <td>1121.873900</td>\n",
       "    </tr>\n",
       "    <tr>\n",
       "      <th>25%</th>\n",
       "      <td>27.000000</td>\n",
       "      <td>26.296250</td>\n",
       "      <td>0.000000</td>\n",
       "      <td>4740.287150</td>\n",
       "    </tr>\n",
       "    <tr>\n",
       "      <th>50%</th>\n",
       "      <td>39.000000</td>\n",
       "      <td>30.400000</td>\n",
       "      <td>1.000000</td>\n",
       "      <td>9382.033000</td>\n",
       "    </tr>\n",
       "    <tr>\n",
       "      <th>75%</th>\n",
       "      <td>51.000000</td>\n",
       "      <td>34.693750</td>\n",
       "      <td>2.000000</td>\n",
       "      <td>16639.912515</td>\n",
       "    </tr>\n",
       "    <tr>\n",
       "      <th>max</th>\n",
       "      <td>64.000000</td>\n",
       "      <td>53.130000</td>\n",
       "      <td>5.000000</td>\n",
       "      <td>63770.428010</td>\n",
       "    </tr>\n",
       "  </tbody>\n",
       "</table>\n",
       "</div>"
      ],
      "text/plain": [
       "               age          bmi     children       charges\n",
       "count  1338.000000  1338.000000  1338.000000   1338.000000\n",
       "mean     39.207025    30.663397     1.094918  13270.422265\n",
       "std      14.049960     6.098187     1.205493  12110.011237\n",
       "min      18.000000    15.960000     0.000000   1121.873900\n",
       "25%      27.000000    26.296250     0.000000   4740.287150\n",
       "50%      39.000000    30.400000     1.000000   9382.033000\n",
       "75%      51.000000    34.693750     2.000000  16639.912515\n",
       "max      64.000000    53.130000     5.000000  63770.428010"
      ]
     },
     "execution_count": 4,
     "metadata": {},
     "output_type": "execute_result"
    }
   ],
   "source": [
    "insurance.describe()"
   ]
  },
  {
   "cell_type": "code",
   "execution_count": 5,
   "metadata": {},
   "outputs": [
    {
     "data": {
      "text/plain": [
       "no     0.795217\n",
       "yes    0.204783\n",
       "Name: smoker, dtype: float64"
      ]
     },
     "execution_count": 5,
     "metadata": {},
     "output_type": "execute_result"
    }
   ],
   "source": [
    "insurance['smoker'].value_counts(normalize=True)"
   ]
  },
  {
   "cell_type": "code",
   "execution_count": 6,
   "metadata": {},
   "outputs": [
    {
     "data": {
      "text/plain": [
       "male      0.505232\n",
       "female    0.494768\n",
       "Name: sex, dtype: float64"
      ]
     },
     "execution_count": 6,
     "metadata": {},
     "output_type": "execute_result"
    }
   ],
   "source": [
    "insurance['sex'].value_counts(normalize=True)"
   ]
  },
  {
   "cell_type": "code",
   "execution_count": 7,
   "metadata": {},
   "outputs": [
    {
     "data": {
      "text/plain": [
       "southeast    0.272048\n",
       "southwest    0.242900\n",
       "northwest    0.242900\n",
       "northeast    0.242152\n",
       "Name: region, dtype: float64"
      ]
     },
     "execution_count": 7,
     "metadata": {},
     "output_type": "execute_result"
    }
   ],
   "source": [
    "insurance['region'].value_counts(normalize=True)"
   ]
  },
  {
   "cell_type": "markdown",
   "metadata": {},
   "source": [
    "#### __Initial Observations__\n",
    "\n",
    "So far, we have learned that there are 1338 separate transactions with no null values. There are three separate categorical columns: `sex` and `region` are well balanced, and according to the `smoker` column, about 20.5% of our customers are smokers.\n",
    "\n",
    "We should also take a look at the distribution of our target variable, `charges`:"
   ]
  },
  {
   "cell_type": "code",
   "execution_count": null,
   "metadata": {},
   "outputs": [],
   "source": [
    "insurance.hist('charges')"
   ]
  },
  {
   "cell_type": "markdown",
   "metadata": {},
   "source": [
    "The charges in our dataset are __mostly less than $20,000__, but there are quite a few above that as well. Since this will make it hard to center our errors around 0, we could use log to transform `charges`."
   ]
  },
  {
   "cell_type": "code",
   "execution_count": null,
   "metadata": {},
   "outputs": [],
   "source": [
    "insurance[\"log_charges\"] = np.log2(insurance[\"charges\"])\n",
    "\n",
    "insurance.hist(\"log_charges\")"
   ]
  },
  {
   "cell_type": "markdown",
   "metadata": {},
   "source": [
    "The log-transformed target variable is more centered, which will help with ensuring that our errors are unbiased.\n",
    "\n",
    "#### __Exploring Correlations__\n",
    "\n",
    "The next step we can take to explore useful predictors is finding the correlation between our target variable `charges` and the rest. Before we do that, we should convert `sex` and `smoker` into binary columns. Since we cannot do that with `region`, we will use a boxplot to explore each region's relationship with the cost of a procedure:"
   ]
  },
  {
   "cell_type": "code",
   "execution_count": null,
   "metadata": {},
   "outputs": [],
   "source": [
    "# converting 'sex' and 'smoker' into binary columns\n",
    "insurance['sex'] = insurance['sex'].apply(lambda x: 1 if x=='male' else 0)\n",
    "insurance['smoker'] = insurance['smoker'].apply(lambda x: 1 if x=='yes' else 0)"
   ]
  },
  {
   "cell_type": "code",
   "execution_count": null,
   "metadata": {},
   "outputs": [],
   "source": [
    "# display correlation between target variable and other columns\n",
    "corr_charges = insurance.corr()['charges'].sort_values(ascending=False)\n",
    "plt.bar(x=corr_charges.index, height = corr_charges, data=corr_charges)"
   ]
  },
  {
   "cell_type": "code",
   "execution_count": null,
   "metadata": {},
   "outputs": [],
   "source": [
    "insurance.boxplot(column = [\"log_charges\"], by = \"region\")"
   ]
  },
  {
   "cell_type": "code",
   "execution_count": null,
   "metadata": {},
   "outputs": [],
   "source": [
    "corr = insurance[['smoker', 'age', 'bmi', 'children', 'sex']].corr()\n",
    "print(corr)"
   ]
  },
  {
   "cell_type": "markdown",
   "metadata": {},
   "source": [
    "#### __Correlation Results__\n",
    "\n",
    "We've found that:\n",
    "- Being a smoker has a high correlation with high treatment costs, at 80% correlation\n",
    "- Age is the next highest correlation, at 30% correlation\n",
    "- `bmi`, `children` and `sex` all seem to have less than a 20% correlation\n",
    "- There seem to be no observable differences in the distribution of `log_charges` within the different regions\n",
    "- We also cannot find any particularly high correlation between the non-target variables\n",
    "\n",
    "\n",
    "## __Dividing the Data__\n",
    "\n",
    "Give what we've found, we will choose `smoker`, `age` and `bmi` as the variables to include in our model. With this in mind, we can split our data into a __training set__ and a __test set__. \n",
    "\n",
    "We need a training set to estimate the effect of these three variables on the `charges` column. We will also need a separate test set to check how accurate the predictions are. Since the training set is what sets said coefficients, the errors and accuracy we would get from predicting on the same set would not be realistic. This is why we need separate test data to validate our model with.\n",
    "\n",
    "For this exercise, we will use 75% of rows as training data, and the other 25% for testing:\n"
   ]
  },
  {
   "cell_type": "code",
   "execution_count": null,
   "metadata": {},
   "outputs": [],
   "source": [
    "# keeping relevant columns and splitting the data set into training and testing sets\n",
    "X = insurance[['smoker', 'age', 'bmi']]\n",
    "y = insurance[['log_charges']]\n",
    "\n",
    "X_train, X_test, y_train, y_test = train_test_split(X, y, test_size = 0.25, random_state = 1)"
   ]
  },
  {
   "cell_type": "markdown",
   "metadata": {},
   "source": [
    "## __Building the Model__\n",
    "\n",
    "With our data split, we will use the __training set__ to build the model. We will use the LinearRegression() function we imported at the start of the exercise for this.\n",
    "\n",
    "Once that is done, we will fit the model to our training data, explore the resulting model coefficients, calculate the $ R^2 $ and mean squared error (MSE), and then write some observations on the results:"
   ]
  },
  {
   "cell_type": "code",
   "execution_count": null,
   "metadata": {},
   "outputs": [],
   "source": [
    "# build and fit the model to the training data\n",
    "model = LinearRegression()\n",
    "model.fit(X_train, y_train)\n",
    "\n",
    "# get model prediction\n",
    "y_pred = model.predict(X_train)\n",
    "\n",
    "# get model coefficients\n",
    "for coef_name, coef_result  in zip(X.columns, model.coef_[0]):\n",
    "    print(f'The coefficient for {coef_name} is {coef_result:.2f}')"
   ]
  },
  {
   "cell_type": "code",
   "execution_count": null,
   "metadata": {},
   "outputs": [],
   "source": [
    "# get R^2 and MSE\n",
    "r2 = r2_score(y_train, y_pred)\n",
    "mse = mean_squared_error(y_train, y_pred)\n",
    "\n",
    "# get original scale MSE\n",
    "exp_mse = np.exp(mse)\n",
    "\n",
    "print(f'The coefficient of determination for our model is {r2:.2f} and the MSE on the original scale is {exp_mse:.2f}')"
   ]
  },
  {
   "cell_type": "markdown",
   "metadata": {},
   "source": [
    "#### __Observations__:\n",
    "\n",
    "- As expected, being a smoker seems to an effect multiple times higher in the final `charges` than the other two variables\n",
    "- The coefficient of determination with the training set is 0.74. meaning that 74% of the variation in the log-scaled `charges` can be explained by the model. This is a good first step, but this is still the training set and therefore optimistic\n",
    "- The MSE on the original scale in 1.58\n",
    "\n",
    "## __Residual Diagnostics__\n",
    "\n",
    "Before we continue, we should ensure that our model follows the assumptions of a linear model. This can be achieved by ensuring the residuals (difference between model results and predicted results) have a mean close to zero, and by checking that the variance is constant.\n",
    "\n",
    "We can achieve this in our exercise by comparing  our residuals through the different charges:"
   ]
  },
  {
   "cell_type": "code",
   "execution_count": null,
   "metadata": {},
   "outputs": [],
   "source": [
    "\n",
    "# Quick visual check of residuals\n",
    "check = pd.DataFrame()\n",
    "check[\"residuals\"] = y_train - y_pred\n",
    "check[\"fitted\"] = y_pred\n",
    "\n",
    "check.plot.scatter(x = \"fitted\", y = \"residuals\")"
   ]
  },
  {
   "cell_type": "markdown",
   "metadata": {},
   "source": [
    "#### __Residual Observations__:\n",
    "\n",
    "- While a lot of our observations fall close to zero, particularly for predicted results lower than 14, residuals are also spread around\n",
    "- We expected an even band around zero, but residuals trend downwards as the predicted value increases\n",
    "\n",
    "This does not necessarily make the model predictions unusable, but it puts into question the linear regression assumptions.\n",
    "\n",
    "## Interpreting the model\n",
    "\n",
    "Let's get our coefficients againL"
   ]
  },
  {
   "cell_type": "code",
   "execution_count": null,
   "metadata": {},
   "outputs": [],
   "source": [
    "# get model coefficients\n",
    "for coef_name, coef_result  in zip(X.columns, model.coef_[0]):\n",
    "    print(f'The coefficient for {coef_name} is {coef_result:.2f}, or {((np.exp(coef_result)-1)*100):.1f}% on the regular scale.')"
   ]
  },
  {
   "cell_type": "markdown",
   "metadata": {},
   "source": [
    "These tell us that:\n",
    "\n",
    "- A year increase in the subject is associated with a 0.05 increase in the log charges, holding smoking status and bmi constant. About a 5% increase in the charges on the regular scale.\n",
    "- A unit increase in the subject BMI is associated with a 0.02 increase in the log charges, holding smoking status and age constant. About a 1.5% increase in the charges on the regular scale.\n",
    "- A smoker is associated with a 2.23 increase in the log charges, holding age and bmi constant. About a 830% increase in the charges on the regular scale.\n",
    "\n",
    "Keep in mind that we are not concerned about if these changes are statistically significant, so we don't know if these associations are truly non-zero. Our primary goal is prediction."
   ]
  },
  {
   "cell_type": "markdown",
   "metadata": {},
   "source": [
    "## __Final Model Evaluation__\n",
    "\n",
    "The training error in the training data will always be optimistic, since model is fitted on the same data. To judge the model's predictive ability, we will have to check how it performs with the test data instead, since these observations had no effect in the building of the model.\n",
    "\n",
    "Let's use the test data to calculate results and MSE, and then compare these to the train data results:"
   ]
  },
  {
   "cell_type": "code",
   "execution_count": null,
   "metadata": {},
   "outputs": [],
   "source": [
    "predictions = model.predict(X_test)\n",
    "mse_test = mean_squared_error(y_test, predictions)\n",
    "exp_mse_test = np.exp(mse_test)\n",
    "r2_test = r2_score(y_test, predictions)\n",
    "\n",
    "print(f'Using our model on the test data, we find that the MSE was {mse_test:.2f}, the exp mse was {exp_mse_test:.2f} and the coef. of determination was {r2_test:.2f}')"
   ]
  },
  {
   "cell_type": "code",
   "execution_count": null,
   "metadata": {},
   "outputs": [],
   "source": [
    "# plotting actuals vs predictions\n",
    "\n",
    "fig, axes = plt.subplots(1,2, figsize=(12,6))\n",
    "axes[0].scatter(predictions, y_test, alpha=.5)\n",
    "axes[0].plot([0,y_test.max()],[0,y_test.max()], lw=1, color='red', alpha=.5)\n",
    "axes[0].set_ylabel(\"Actual\")\n",
    "axes[0].set_ylim([8, 16])\n",
    "axes[0].set_xlabel(\"Predicted\")\n",
    "axes[0].set_xlim([10, 16])\n",
    "axes[0].set_title(\"Actual vs Predicted Values\")\n",
    "\n",
    "residuals = y_test - predictions\n",
    "axes[1].scatter(predictions, residuals)\n",
    "axes[1].set_xlabel(\"Prediction\")\n",
    "axes[1].set_ylabel(\"Residual\")\n",
    "axes[1].set_title(\"Residual Plot\")\n",
    "\n",
    "fig.tight_layout()\n",
    "plt.show()"
   ]
  },
  {
   "cell_type": "markdown",
   "metadata": {},
   "source": [
    "## __Conclusions__\n",
    "\n",
    "The test MSE on the original scale was about 1.55, while the training original scale MSE was about 1.58. In this case, the two errors match up pretty well, so we can conclude that the model is not overfit. The residuals suggest that the model is predicting much lower costs for subjects who were actually charged much higher. Therefore the model struggles with these higher costs. As a whole, the model predictions are too conservative.\n",
    "\n",
    "We might improve the model by including more complex terms in the regression, such as interactions or quadratic terms."
   ]
  }
 ],
 "metadata": {
  "kernelspec": {
   "display_name": "Python 3 (ipykernel)",
   "language": "python",
   "name": "python3"
  },
  "language_info": {
   "codemirror_mode": {
    "name": "ipython",
    "version": 3
   },
   "file_extension": ".py",
   "mimetype": "text/x-python",
   "name": "python",
   "nbconvert_exporter": "python",
   "pygments_lexer": "ipython3",
   "version": "3.10.6"
  }
 },
 "nbformat": 4,
 "nbformat_minor": 4
}
